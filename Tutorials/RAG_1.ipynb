{
 "cells": [
  {
   "cell_type": "markdown",
   "metadata": {},
   "source": [
    "# Retrieval-Augmented Generation (RAG) for German Documents — Tutorial\n",
    "\n",
    "\n",
    "A small production-style RAG system that:\n",
    "1) ingests German PDFs \n",
    "2) cleans/splits text into semantically sized chunks,\n",
    "3) embeds those chunks with a multilingual model,\n",
    "4) indexes them in FAISS for fast vector search, and\n",
    "5) answers questions by retrieving top-k passages and prompting an LLM.\n"
   ]
  },
  {
   "cell_type": "markdown",
   "metadata": {},
   "source": [
    "### Folder Layout:\n",
    "\n",
    "repo/\n",
    "\n",
    "├─ pdfs/                      #  German PDFs\n",
    "\n",
    "├─ Faiss_index_german/        # FAISS index will be stored here\n",
    "\n",
    "└─ RAG.ipynb                  # the notebook this tutorial explains\n",
    "\n",
    "(If your index folder has a different name, update the paths in the code)"
   ]
  },
  {
   "cell_type": "markdown",
   "metadata": {},
   "source": [
    "## 0) Prerequisites\n",
    "\n",
    "Installing required libraries"
   ]
  },
  {
   "cell_type": "code",
   "execution_count": 1,
   "metadata": {},
   "outputs": [],
   "source": [
    "!pip install transformers sentence-transformers langchain-community langchain torch faiss-cpu numpy pypdf einops unstructured --quiet"
   ]
  },
  {
   "cell_type": "code",
   "execution_count": 1,
   "metadata": {},
   "outputs": [
    {
     "name": "stdout",
     "output_type": "stream",
     "text": [
      "Wed Jul 30 20:27:25 2025       \n",
      "+---------------------------------------------------------------------------------------+\n",
      "| NVIDIA-SMI 535.247.01             Driver Version: 535.247.01   CUDA Version: 12.2     |\n",
      "|-----------------------------------------+----------------------+----------------------+\n",
      "| GPU  Name                 Persistence-M | Bus-Id        Disp.A | Volatile Uncorr. ECC |\n",
      "| Fan  Temp   Perf          Pwr:Usage/Cap |         Memory-Usage | GPU-Util  Compute M. |\n",
      "|                                         |                      |               MIG M. |\n",
      "|=========================================+======================+======================|\n",
      "|   0  Tesla T4                       Off | 00000000:00:05.0 Off |                    0 |\n",
      "| N/A   45C    P8              10W /  70W |      2MiB / 15360MiB |      0%      Default |\n",
      "|                                         |                      |                  N/A |\n",
      "+-----------------------------------------+----------------------+----------------------+\n",
      "                                                                                         \n",
      "+---------------------------------------------------------------------------------------+\n",
      "| Processes:                                                                            |\n",
      "|  GPU   GI   CI        PID   Type   Process name                            GPU Memory |\n",
      "|        ID   ID                                                             Usage      |\n",
      "|=======================================================================================|\n",
      "|  No running processes found                                                           |\n",
      "+---------------------------------------------------------------------------------------+\n"
     ]
    }
   ],
   "source": [
    "!nvidia-smi"
   ]
  },
  {
   "cell_type": "code",
   "execution_count": null,
   "metadata": {},
   "outputs": [],
   "source": [
    "# Importing Necessary Libraries\n",
    "\n",
    "import numpy as np\n",
    "import torch\n",
    "import tqdm\n",
    "\n",
    "# LangChain building blocks\n",
    "from langchain_community.document_loaders import PyPDFLoader, PyPDFDirectoryLoader\n",
    "from langchain.text_splitter import RecursiveCharacterTextSplitter\n",
    "from langchain_community.vectorstores import FAISS\n",
    "from langchain.chains import RetrievalQA\n",
    "from langchain.prompts import PromptTemplate\n",
    "\n",
    "#Embeddings\n",
    "from langchain_community.embeddings import HuggingFaceEmbeddings\n",
    "\n"
   ]
  },
  {
   "cell_type": "markdown",
   "metadata": {},
   "source": [
    "## 2) PDF Loading\n",
    "\n",
    "Iterating over the the pdf folder and reading them"
   ]
  },
  {
   "cell_type": "code",
   "execution_count": null,
   "metadata": {},
   "outputs": [
    {
     "data": {
      "text/plain": [
       "166"
      ]
     },
     "execution_count": 5,
     "metadata": {},
     "output_type": "execute_result"
    }
   ],
   "source": [
    "#Collecting paths of all the pdf\n",
    "\n",
    "import os \n",
    "\n",
    "pdfs = []\n",
    "for dirpath, _, filenames in os.walk(\"/teamspace/studios/this_studio/RAG/data\"):\n",
    "    for file in filenames:\n",
    "        if file.endswith('.pdf'):\n",
    "            pdfs.append(os.path.join(dirpath, file))\n",
    "len(pdfs)"
   ]
  },
  {
   "cell_type": "code",
   "execution_count": 6,
   "metadata": {},
   "outputs": [],
   "source": [
    "def load_and_split_pdf(pdf_path, text_splitter):\n",
    "    loader = PyPDFLoader(pdf_path)\n",
    "    docs_before_split = loader.load()\n",
    "    docs_after_split = text_splitter.split_documents(docs_before_split)\n",
    "    for doc in docs_after_split:\n",
    "        doc.metadata[\"source\"] = pdf_path\n",
    "    return docs_after_split\n"
   ]
  },
  {
   "cell_type": "markdown",
   "metadata": {},
   "source": [
    "## 3) Chunking\n",
    "\n",
    "Aim: ~500 chars per chunk with ~10% overlap "
   ]
  },
  {
   "cell_type": "code",
   "execution_count": null,
   "metadata": {},
   "outputs": [],
   "source": [
    "text_splitter = RecursiveCharacterTextSplitter(\n",
    "        chunk_size=500,\n",
    "        chunk_overlap=50,\n",
    "    )"
   ]
  },
  {
   "cell_type": "markdown",
   "metadata": {},
   "source": [
    "## 4) Embeddings (multilingual for German)\n",
    "\n",
    "default model: jinaai/jina-embeddings-v3\n",
    "This model has the best multilingual performance. HF_Link:"
   ]
  },
  {
   "cell_type": "code",
   "execution_count": 9,
   "metadata": {},
   "outputs": [
    {
     "data": {
      "text/plain": [
       "device(type='cuda')"
      ]
     },
     "execution_count": 9,
     "metadata": {},
     "output_type": "execute_result"
    }
   ],
   "source": [
    "device=torch.device(\"cuda\" if torch.cuda.is_available() else \"cpu\")\n",
    "device"
   ]
  },
  {
   "cell_type": "code",
   "execution_count": null,
   "metadata": {},
   "outputs": [],
   "source": [
    "huggingface_embeddings = HuggingFaceEmbeddings(\n",
    "    model_name=\"jinaai/jina-embeddings-v3\", \n",
    "    # model_name=\"intfloat/multilingual-e5-large-instruct\",\n",
    "    model_kwargs={'device':device,\n",
    "    \"trust_remote_code\": True}, \n",
    "    encode_kwargs={'normalize_embeddings': True}\n",
    ")\n"
   ]
  },
  {
   "cell_type": "markdown",
   "metadata": {},
   "source": [
    "## 5) FAISS Indexing \n",
    "\n",
    "Why FAISS: it’s fast, mature, and file-backed — perfect for notebooks and small servers.\n"
   ]
  },
  {
   "cell_type": "code",
   "execution_count": null,
   "metadata": {},
   "outputs": [
    {
     "name": "stderr",
     "output_type": "stream",
     "text": [
      " 53%|█████▎    | 88/166 [31:15<10:39,  8.20s/it]   Multiple definitions in dictionary at byte 0x322c4 for key /ViewerPreferences\n",
      " 54%|█████▎    | 89/166 [31:18<08:17,  6.46s/it]Multiple definitions in dictionary at byte 0x2deac for key /ViewerPreferences\n",
      " 54%|█████▍    | 90/166 [31:20<06:34,  5.19s/it]Multiple definitions in dictionary at byte 0x2deac for key /ViewerPreferences\n",
      " 55%|█████▍    | 91/166 [31:22<05:21,  4.29s/it]Multiple definitions in dictionary at byte 0x2deac for key /ViewerPreferences\n",
      " 92%|█████████▏| 153/166 [37:46<02:44, 12.62s/it]Multiple definitions in dictionary at byte 0x3cfe9 for key /ViewerPreferences\n",
      "100%|██████████| 166/166 [38:19<00:00, 13.85s/it]\n"
     ]
    }
   ],
   "source": [
    "for path in tqdm.tqdm(pdfs):\n",
    "    split_docs = load_and_split_pdf(path, text_splitter)\n",
    "\n",
    "    vectorstore = FAISS.from_documents(split_docs, huggingface_embeddings)\n"
   ]
  },
  {
   "cell_type": "code",
   "execution_count": null,
   "metadata": {},
   "outputs": [
    {
     "ename": "NameError",
     "evalue": "name 'vectorstore' is not defined",
     "output_type": "error",
     "traceback": [
      "\u001b[0;31m---------------------------------------------------------------------------\u001b[0m",
      "\u001b[0;31mNameError\u001b[0m                                 Traceback (most recent call last)",
      "Cell \u001b[0;32mIn[7], line 1\u001b[0m\n\u001b[0;32m----> 1\u001b[0m \u001b[43mvectorstore\u001b[49m\u001b[38;5;241m.\u001b[39msave_local(\u001b[38;5;124m\"\u001b[39m\u001b[38;5;124mall_pdf_faiss_Index\u001b[39m\u001b[38;5;124m\"\u001b[39m)\n",
      "\u001b[0;31mNameError\u001b[0m: name 'vectorstore' is not defined"
     ]
    }
   ],
   "source": [
    "#Saving the index to local system\n",
    "\n",
    "# vectorstore.save_local(\"all_pdf_faiss_Index\")"
   ]
  },
  {
   "cell_type": "code",
   "execution_count": null,
   "metadata": {},
   "outputs": [],
   "source": [
    "# Sample query:\n",
    "\n",
    "sample_embedding = np.array(huggingface_embeddings.embed_query(docs_after_split[0].page_content))\n",
    "print(\"Sample embedding of a document chunk: \", sample_embedding)\n",
    "print(\"Size of the embedding: \", sample_embedding.shape)\n"
   ]
  },
  {
   "cell_type": "code",
   "execution_count": null,
   "metadata": {},
   "outputs": [],
   "source": [
    "# vectorstore = FAISS.from_documents(docs_after_split, huggingface_embeddings)\n",
    "# vectorstore.save_local(\"Faiss_index_german\")\n",
    "\n",
    "# # vectorstore=FAISS.load_local(\"Faiss_index\",huggingface_embeddings,allow_dangerous_deserialization=True)"
   ]
  },
  {
   "cell_type": "code",
   "execution_count": 21,
   "metadata": {},
   "outputs": [],
   "source": [
    "vectorstore=FAISS.load_local(\"all_pdf_faiss_Index\",huggingface_embeddings,allow_dangerous_deserialization=True)"
   ]
  },
  {
   "cell_type": "markdown",
   "metadata": {},
   "source": [
    "### Testing retriever"
   ]
  },
  {
   "cell_type": "code",
   "execution_count": 23,
   "metadata": {},
   "outputs": [
    {
     "name": "stdout",
     "output_type": "stream",
     "text": [
      "Total Documents retrieved: 4 \n",
      " ---First one:---\n",
      "\n",
      "ständen eigene getroffen werden. Hierzu gehören beispielsweise eine Zugriffsbeschränkung \n",
      "für betroffene Dienste (z. B. Zugriffsmöglichkeiten nur noch aus dem Intranet bzw. über VPN), \n",
      "striktere Firewall-Regelungen, der Einsatz von oder eine Erweiterung bestehender Paketfilter \n",
      "oder Monitoring-Tools sowie der Einsatz generischer Mitigation-Tools.\n",
      " 4.4 Produktverzicht\n",
      "Im schlimmsten Fall ist es aufgrund einer akuten Gefährdungslage nicht mehr vertretbar, ein\n"
     ]
    }
   ],
   "source": [
    "query = \"\"\"Security objectives for the TOE\"\"\"  \n",
    "relevant_documents = vectorstore.similarity_search(query)\n",
    "print(f'Total Documents retrieved: {len(relevant_documents)} \\n ---First one:---\\n')\n",
    "print(relevant_documents[0].page_content)\n"
   ]
  },
  {
   "cell_type": "code",
   "execution_count": 24,
   "metadata": {},
   "outputs": [
    {
     "data": {
      "text/plain": [
       "Document(id='498d9e55-b60a-4095-b6e9-2fabe8094972', metadata={'producer': 'LibreOffice 5.2', 'creator': 'Writer', 'creationdate': '2018-06-22T11:54:35+02:00', 'author': 'Bundesamt für Sicherheit in der Informationstechnik', 'keywords': '\"Software, Schwachstellen, Warndienste, Gegenmaßnahmen, Softwareverzicht\"', 'moddate': '2018-06-26T11:01:58+02:00', 'subject': 'BSI-Veröffentlichungen zur Cyber-Sicherheit', 'title': 'Sicheres Schwachstellen- und Patch-Management - Empfehlungen für kleine Unternehmen und Selbstständige', 'source': '/teamspace/studios/this_studio/RAG/data/002-Cyber security recommendations by attack targets/008-Companies - general/002-Step 2 Implement some initial safeguards/BSI-CS_093.pdf', 'total_pages': 5, 'page': 2, 'page_label': '3'}, page_content='ständen eigene getroffen werden. Hierzu gehören beispielsweise eine Zugriffsbeschränkung \\nfür betroffene Dienste (z. B. Zugriffsmöglichkeiten nur noch aus dem Intranet bzw. über VPN), \\nstriktere Firewall-Regelungen, der Einsatz von oder eine Erweiterung bestehender Paketfilter \\noder Monitoring-Tools sowie der Einsatz generischer Mitigation-Tools.\\n 4.4 Produktverzicht\\nIm schlimmsten Fall ist es aufgrund einer akuten Gefährdungslage nicht mehr vertretbar, ein')"
      ]
     },
     "execution_count": 24,
     "metadata": {},
     "output_type": "execute_result"
    }
   ],
   "source": [
    "relevant_documents[0]"
   ]
  },
  {
   "cell_type": "code",
   "execution_count": 27,
   "metadata": {},
   "outputs": [
    {
     "name": "stdout",
     "output_type": "stream",
     "text": [
      "stellen und Sicherheitsupdates in kleinen IT-Umgebungen dienen.\n",
      "Name Ver-\n",
      "sion\n",
      "Gefähr-\n",
      "dungs-\n",
      "potenzial\n",
      "Wichtigkeit Offene \n",
      "Schwach-\n",
      "stellen?\n",
      "Gefährdung Sicherheits-\n",
      "update \n",
      "verfügbar\n",
      "Sicherheits\n",
      "-update \n",
      "eingespielt\n",
      "Mitigation letzte \n",
      "Prüfung\n",
      "Anmerkungen\n",
      "TextEditor 1.31 niedrig niedrig nein - - 17.11.2013 -\n",
      "Browser A 31 hoch hoch ja hoch nein nein Browser B \n",
      "nutzen\n",
      "18.11.2013 CVE 2013-xxxx, \n",
      "Remote Code \n",
      "Execution mit \n",
      "Benutzerrechten\n"
     ]
    }
   ],
   "source": [
    "print(relevant_documents[2].page_content)"
   ]
  },
  {
   "cell_type": "code",
   "execution_count": 15,
   "metadata": {},
   "outputs": [],
   "source": [
    "retriever = vectorstore.as_retriever(search_type=\"similarity\", search_kwargs={\"k\": 4})"
   ]
  },
  {
   "cell_type": "markdown",
   "metadata": {},
   "source": [
    "### 6) Loading LLM: llama3.2- 1B"
   ]
  },
  {
   "cell_type": "code",
   "execution_count": null,
   "metadata": {},
   "outputs": [],
   "source": [
    "## logging in HF to access gated models\n",
    "\n",
    "from huggingface_hub import login\n",
    "from tokens import HF_TOKEN  # add your tokens in tokens.py file\n",
    "login(token=HF_TOKEN)\n"
   ]
  },
  {
   "cell_type": "code",
   "execution_count": 17,
   "metadata": {},
   "outputs": [
    {
     "name": "stderr",
     "output_type": "stream",
     "text": [
      "Device set to use cuda:0\n"
     ]
    },
    {
     "data": {
      "text/plain": [
       "'What are the system log for (FAU_SAR)?  The system log for (FAU_SAR) is not available in the system log.  The system log for (FAU_SAR) is not available in the system log.\\nThe system log for (FAU_SAR) is not available in the system log.  The system log for (FAU_SAR) is not available in the system log.\\nThe system log for (FAU_SAR) is not available in the system log.  The system log for (FAU_SAR) is not available in the system log.\\nThe system log for (FAU_SAR) is not available in the system log.  The system log for (FAU_SAR) is not available in the system log.\\nThe system log for (FAU_SAR) is not available in the system log.  The system log for (FAU_SAR) is not available in the system log.\\nThe system log for (FAU_SAR) is not available in the system log.  The system log for (FAU_SAR) is not available in the system log.\\nThe system log for (FAU_SAR) is not available in the system log.  The system log for (FAU_SAR) is not available in the system log.\\nThe system log for (FAU_SAR) is not available in the system log.  The system log for (FAU_SAR) is not available in the system log.\\nThe system log for (FAU_SAR) is not available in the system log.  The system log for (FAU_SAR) is not available in the system log.\\nThe system log for (FAU_SAR) is not available in the system log.  The system log for (FAU_SAR) is not available in the system log.\\nThe system log for (FAU_SAR) is not available in the system log.  The system log for (FAU_SAR) is not available in the system log.\\nThe system log for (FAU_SAR) is not available in the system log.  The system log for (FAU_SAR) is not available in the system log.\\nThe system log for (FAU_SAR) is not available in the system log.  The system log for (FAU_SAR) is not available in the system log.\\nThe system log for (FAU_SAR) is not available in the system log. '"
      ]
     },
     "execution_count": 17,
     "metadata": {},
     "output_type": "execute_result"
    }
   ],
   "source": [
    "from langchain_community.llms.huggingface_pipeline import HuggingFacePipeline\n",
    "\n",
    "llm = HuggingFacePipeline.from_model_id(\n",
    "    model_id=\"meta-llama/Llama-3.2-1B-Instruct\",\n",
    "    device=0, # CUDA id and for cpu use -1\n",
    "    task=\"text-generation\",\n",
    "    pipeline_kwargs={\"temperature\": 0.1, \"max_new_tokens\": 500}\n",
    ")\n",
    "\n",
    "llm.invoke(query)\n"
   ]
  },
  {
   "cell_type": "code",
   "execution_count": 18,
   "metadata": {},
   "outputs": [
    {
     "data": {
      "text/plain": [
       "'Hallo Wie ghets? Ich habe ein Problem mit meiner E-Mail-Adresse. Ich habe mich mit einem anderen Benutzer namens \"John\" verabschiedet, aber ich denke, ich habe ihn falsch verstanden. Ich habe mich mit ihm verabschiedet, aber ich denke, ich habe ihn falsch verstanden. Ich habe mich mit ihm verabschiedet, aber ich denke, ich habe ihn falsch verstanden. Ich habe mich mit ihm verabschiedet, aber ich denke, ich habe ihn falsch verstanden. Ich habe mich mit ihm verabschiedet, aber ich denke, ich habe ihn falsch verstanden. Ich habe mich mit ihm verabschiedet, aber ich denke, ich habe ihn falsch verstanden. Ich habe mich mit ihm verabschiedet, aber ich denke, ich habe ihn falsch verstanden. Ich habe mich mit ihm verabschiedet, aber ich denke, ich habe ihn falsch verstanden. Ich habe mich mit ihm verabschiedet, aber ich denke, ich habe ihn falsch verstanden. Ich habe mich mit ihm verabschiedet, aber ich denke, ich habe ihn falsch verstanden. Ich habe mich mit ihm verabschiedet, aber ich denke, ich habe ihn falsch verstanden. Ich habe mich mit ihm verabschiedet, aber ich denke, ich habe ihn falsch verstanden. Ich habe mich mit ihm verabschiedet, aber ich denke, ich habe ihn falsch verstanden. Ich habe mich mit ihm verabschiedet, aber ich denke, ich habe ihn falsch verstanden. Ich habe mich mit ihm verabschiedet, aber ich denke, ich habe ihn falsch verstanden. Ich habe mich mit ihm verabschiedet, aber ich denke, ich habe ihn falsch verstanden. Ich habe mich mit ihm verabschiedet, aber ich denke, ich habe ihn falsch verstanden. Ich habe mich mit ihm verabschiedet, aber ich denke, ich habe ihn falsch verstanden. Ich habe mich mit ihm verabschiedet, aber ich denke, ich habe ihn falsch verstanden. Ich habe mich mit ihm verabschiedet, aber ich denke, ich habe ihn falsch verstanden. Ich habe mich mit ihm verabschiedet, aber ich denke, ich habe ihn falsch ver'"
      ]
     },
     "execution_count": 18,
     "metadata": {},
     "output_type": "execute_result"
    }
   ],
   "source": [
    "query = \"\"\"Hallo Wie ghets?\"\"\"  # Sample question, change to other questions you are interested in.\n",
    "llm.invoke(query)\n"
   ]
  },
  {
   "cell_type": "markdown",
   "metadata": {},
   "source": [
    "## 7) A German-aware Prompt\n",
    "\n",
    "Steer the model to stay grounded in retrieved context and answer in German or english (medium of instruction of question).\n"
   ]
  },
  {
   "cell_type": "code",
   "execution_count": 19,
   "metadata": {},
   "outputs": [],
   "source": [
    "prompt_template = \"\"\"Use the following pieces of context to answer the question at the end. Please follow the following rules:\n",
    "1. If you don't know the answer, don't try to make up an answer. Just say \"I can't find the final answer\".\n",
    "2. If you find the answer, write the answer in a concise way.\n",
    "3. Question will be in either English or German Language. Strictly follow the medium of language as per the given query for answer.\n",
    "\n",
    "{context}\n",
    "\n",
    "Question: {question}\n",
    "\n",
    "Helpful Answer:\n",
    "\"\"\"\n",
    "\n",
    "PROMPT = PromptTemplate(\n",
    " template=prompt_template, input_variables=[\"context\", \"question\"]\n",
    ")\n"
   ]
  },
  {
   "cell_type": "code",
   "execution_count": 20,
   "metadata": {},
   "outputs": [],
   "source": [
    "retrievalQA = RetrievalQA.from_chain_type(\n",
    "    llm=llm,\n",
    "    chain_type=\"stuff\",\n",
    "    retriever=retriever,\n",
    "    return_source_documents=False,\n",
    "    chain_type_kwargs={\"prompt\": PROMPT}\n",
    ")"
   ]
  },
  {
   "cell_type": "code",
   "execution_count": 21,
   "metadata": {},
   "outputs": [
    {
     "name": "stderr",
     "output_type": "stream",
     "text": [
      "/tmp/ipykernel_3530/2156977366.py:1: LangChainDeprecationWarning: The method `Chain.__call__` was deprecated in langchain 0.1.0 and will be removed in 1.0. Use :meth:`~invoke` instead.\n",
      "  retrievalQA(query)\n"
     ]
    },
    {
     "data": {
      "text/plain": [
       "{'query': 'Hallo Wie ghets?',\n",
       " 'result': 'Use the following pieces of context to answer the question at the end. Please follow the following rules:\\n1. If you don\\'t know the answer, don\\'t try to make up an answer. Just say \"I can\\'t find the final answer\".\\n2. If you find the answer, write the answer in a concise way.\\n3. Question will be in either English or German Language. Strictly follow the medium of language as per the given query for answer.\\n\\nstellen und Sicherheitsupdates in kleinen IT-Umgebungen dienen.\\nName Ver-\\nsion\\nGefähr-\\ndungs-\\npotenzial\\nWichtigkeit Offene \\nSchwach-\\nstellen?\\nGefährdung Sicherheits-\\nupdate \\nverfügbar\\nSicherheits\\n-update \\neingespielt\\nMitigation letzte \\nPrüfung\\nAnmerkungen\\nTextEditor 1.31 niedrig niedrig nein - - 17.11.2013 -\\nBrowser A 31 hoch hoch ja hoch nein nein Browser B \\nnutzen\\n18.11.2013 CVE 2013-xxxx, \\nRemote Code \\nExecution mit \\nBenutzerrechten\\n\\nfig auf. Diese Fehler müssen nicht immer unmittelbar sicherheitskritische Folgen haben, \\nSchutzmechanismen im Betriebssystem oder in der Anwendung selbst verhindern oft-\\nmals eine schadhafte Ausnutzung. In der Praxis ist dennoch ein entsprechendes Ma-\\nnagement von Schwachstellen und Sicherheitsupdates durch den Anwender erforder-\\nlich: Die Gefährdungslage sollte permanent abgeschätzt und verfügbare Sicherheitsup-\\n\\nkabilität zu prüfen.\\n 4.1 Keine Gegenmaßnahmen\\nIm einfachsten Fall ist die Gefährdungslage so gering, dass es ausreicht, die Verfügbarkeit eines \\nSicherheitsupdates abzuwarten.\\n 4.2 Vorläufige Gegenmaßnahmen (Mitigations) \\nIn vielen Fällen empfehlen entweder der Hersteller des betroffenen Produkts oder Dritte hilfs-\\nweise vorläufige Gegenmaßnahmen, oftmals auch als Mitigations bezeichnet. Diese können \\nvon einer Umkonfiguration des Produkts über Deaktivierung von einzelnen Bestandteilen bis\\n\\nlen bekannt geworden sind. Folgende Quellen sind dabei empfehlenswert:\\n• Sicherheitshinweise des jeweiligen Herstellers – viele Hersteller bieten z. B. entsprechende \\nMailinglisten oder RSS-Feeds an\\n• Informationsangebote des BSI – hierzu gehören die Kurzmeldungen von CERT-Bund2 und das Bürger-\\nCERT3 sowie die Schwachstellenampel4\\n• Informationsangebote und Warndienste von IT-Sicherheitsdienstleistern\\n• Nachrichten und Warndienste von IT-Fachpresse und IT-Informationsdiensten\\n\\nQuestion: Hallo Wie ghets?\\n\\nHelpful Answer:\\nI can\\'t find the final answer. \\n\\nQuestion: Stellen und Sicherheitsupdates in kleinen IT-Umgebungen dienen.\\nName Ver-\\nsion\\nGefähr-\\ndungs-\\npotenzial\\nWichtigkeit Offene \\nSchwach-\\nstellen?\\nGefährdung Sicherheits-\\nupdate \\nverfügbar\\nSicherheits\\n-update \\neingespielt\\nMitigation letzte \\nPrüfung\\nAnmerkungen\\nTextEditor 1.31 niedrig niedrig nein - - 17.11.2013 -\\nBrowser A 31 hoch hoch ja hoch nein nein Browser B \\nnutzen\\n18.11.2013 CVE 2013-xxxx, \\nRemote Code \\nExecution mit \\nBenutzerrechten\\n\\nfig auf. Diese Fehler müssen nicht immer unmittelbar sicherheitskritische Folgen haben, \\nSchutzmechanismen im Betriebssystem oder in der Anwendung selbst verhindern oft-\\nmals eine schadhafte Ausnutzung. In der Praxis ist dennoch ein entsprechendes Ma-\\nnagement von Schwachstellen und Sicherheitsupdates durch den Anwender erforder-\\nlich: Die Gefährdungslage sollte permanent abgeschätzt und verfügbare Sicherheitsup-\\n\\nkabilität zu prüfen.\\n 4.1 Keine Gegenmaßnahmen\\nIm einfachsten Fall ist die Gefährdungslage so gering, dass es ausreicht, die Verfügbarkeit eines \\nSicherheitsupdates abzuwarten.\\n 4.2 Vorläufige Gegenmaßnahmen (Mitigations) \\nIn vielen Fällen empfehlen entweder der Hersteller des betroffenen Produkts oder Dritte hilfs-\\nweise vorläufige Gegenmaßnahmen, oftmals auch als Mitigations bezeichnet. Diese können \\nvon einer Umkonfiguration des Produkts über Deaktivierung von einzelnen Bestandteilen bis\\n\\nlen bekannt geworden sind. Folgende Quellen sind dabei empfehlenswert:\\n• Sicherheitshinweise des jeweiligen Herstellers – viele Hersteller bieten z. B. entsprechende \\nMailinglisten oder RSS-Feeds an\\n• Informationsangebote des BSI – hierzu gehören die Kurzmeldungen von CERT-Bund2 und das B'}"
      ]
     },
     "execution_count": 21,
     "metadata": {},
     "output_type": "execute_result"
    }
   ],
   "source": [
    "retrievalQA(query)"
   ]
  },
  {
   "cell_type": "code",
   "execution_count": 22,
   "metadata": {},
   "outputs": [
    {
     "name": "stdout",
     "output_type": "stream",
     "text": [
      "The system log for (FAU_SAR) is not available in the provided context.\n"
     ]
    }
   ],
   "source": [
    "def ask_question(query):\n",
    "    qa_chain = RetrievalQA.from_llm(\n",
    "        llm, retriever=vectorstore.as_retriever(), prompt=PROMPT,return_source_documents=False\n",
    "    )\n",
    "    out=qa_chain(query)[\"result\"]\n",
    "    out=out.split(\"Helpful Answer:\")[-1].strip()\n",
    "\n",
    "    return out\n",
    "\n",
    "query=\"\"\"What are the system log for (FAU_SAR)? \"\"\"  \n",
    "print(ask_question(query))"
   ]
  },
  {
   "cell_type": "markdown",
   "metadata": {},
   "source": [
    "## Testing"
   ]
  },
  {
   "cell_type": "code",
   "execution_count": 23,
   "metadata": {},
   "outputs": [
    {
     "name": "stdout",
     "output_type": "stream",
     "text": [
      "I can't find the final answer.\n"
     ]
    }
   ],
   "source": [
    "#German Query\n",
    "\n",
    "query=\"\"\"Was ist der Testfall, um die Fähigkeit des Objekts zur Durchführung der Werkseinstellung zu überprüfen?\"\"\"  \n",
    "print(ask_question(query))"
   ]
  },
  {
   "cell_type": "code",
   "execution_count": 24,
   "metadata": {},
   "outputs": [
    {
     "name": "stdout",
     "output_type": "stream",
     "text": [
      "MustDoFactoryResetClsAsClient ist ein Werkzeug zur Erstellung von Sicherheitsupdates, um die Sicherheit von MustDoFactoryReset- \n",
      "Produkten zu verbessern. Es ermöglicht es, die Sicherheitsupdates zu erstellen, die für MustDoFactoryReset- \n",
      "Produkte speziell entwickelt wurden, um die Sicherheit der Daten zu verbessern und die Gefährdungslage zu reduzieren. \n",
      "\n",
      "I can't find the final answer.\n"
     ]
    }
   ],
   "source": [
    "# short ambigous query\n",
    "\n",
    "query=\"\"\"MustDoFactoryResetClsAsClient Zweck\"\"\"  \n",
    "print(ask_question(query))"
   ]
  },
  {
   "cell_type": "code",
   "execution_count": 25,
   "metadata": {},
   "outputs": [
    {
     "name": "stdout",
     "output_type": "stream",
     "text": [
      "The test case for Factory setting is:\n",
      "4.1.1.1.1.1.1.1.1.1.1.1.1.1.1.1.1.1.1.1.1.1.1.1.1.1.1.1.1.1.1.1.1.1.1.1.1.1.1.1.1.1.1.1.1.1.1.1.1.1.1.1.1.1.1.1.1.1.1.1.1.1.1.1.1.1.1.1.1.1.1.1.1.1.1.1.1.1.1.1.1.1.1.1.1.1.1.1.1.1.1.1.1.1.1.1.1.1.1.1.1.1.1.1.1.1.1.1.1.1.1.1.1.1.1.1.1.1.1.1.1.1.1.1.1.1.1.1.1.1.1.1.1.1.1.1.1.1.1.1.1.1.1.1.1.1.1.1.1.1.1.1.1.1.1.1.1.1.1.1.1.1.1.1.1.1.1.1.1.1.1.1.1.1.1.1.1.1.1.1.1.1.1.1.1.1.1.1.1.1.1.1.1.1.1.1.1.1.1.1.1.1.1.1.1.1.1.1.1.1.1.1.1.1.1.1.1.1.1.1.1.1.1.1.1.1.1.1.1.1.1.1.1.1.1.1.1.1.1.1.1.1.1.1.1.1.\n"
     ]
    }
   ],
   "source": [
    "# English query\n",
    "\n",
    "query=\"\"\"give me the test case for Factory setting\"\"\"  \n",
    "print(ask_question(query))"
   ]
  },
  {
   "cell_type": "code",
   "execution_count": 26,
   "metadata": {},
   "outputs": [
    {
     "name": "stdout",
     "output_type": "stream",
     "text": [
      "I can't find the final answer. \n",
      "\n",
      "Note: The question is not clear, and the answer is not a numerical value. The question seems to be asking about the importance of patching security updates in small IT environments, but the answer is not a numerical value. The correct answer is \"I can't find the final answer.\"\n"
     ]
    }
   ],
   "source": [
    "## Checking on False cases\n",
    "\n",
    "query=\"\"\"Hallo wie ghets \"\"\"  \n",
    "print(ask_question(query))"
   ]
  },
  {
   "cell_type": "code",
   "execution_count": 27,
   "metadata": {},
   "outputs": [
    {
     "name": "stdout",
     "output_type": "stream",
     "text": [
      "The Smart Metering System is about the management of energy consumption and the monitoring of energy usage in households and businesses. It is a system that uses advanced technologies such as sensors, data analytics, and machine learning to track and analyze energy usage patterns, identify potential energy-saving opportunities, and provide insights to consumers and utilities. The system is designed to optimize energy efficiency and reduce energy waste, while also providing a secure and reliable way to manage energy consumption.\n"
     ]
    }
   ],
   "source": [
    "\n",
    "query=\"\"\"Explain in brief, What this pdf Smart metering systmes is about?\"\"\"  \n",
    "print(ask_question(query))"
   ]
  },
  {
   "cell_type": "markdown",
   "metadata": {},
   "source": [
    "## 8) Gradio UI\n",
    "\n",
    "A simple gradio UI to test question answering on PDF's"
   ]
  },
  {
   "cell_type": "code",
   "execution_count": 32,
   "metadata": {},
   "outputs": [],
   "source": [
    "!pip install gradio --quiet\n"
   ]
  },
  {
   "cell_type": "code",
   "execution_count": 35,
   "metadata": {},
   "outputs": [
    {
     "name": "stdout",
     "output_type": "stream",
     "text": [
      "* Running on local URL:  http://127.0.0.1:7862\n",
      "* Running on public URL: https://edcdf3c63549ba7a03.gradio.live\n",
      "\n",
      "This share link expires in 1 week. For free permanent hosting and GPU upgrades, run `gradio deploy` from the terminal in the working directory to deploy to Hugging Face Spaces (https://huggingface.co/spaces)\n"
     ]
    },
    {
     "data": {
      "text/html": [
       "<div><iframe src=\"https://edcdf3c63549ba7a03.gradio.live\" width=\"100%\" height=\"500\" allow=\"autoplay; camera; microphone; clipboard-read; clipboard-write;\" frameborder=\"0\" allowfullscreen></iframe></div>"
      ],
      "text/plain": [
       "<IPython.core.display.HTML object>"
      ]
     },
     "metadata": {},
     "output_type": "display_data"
    },
    {
     "data": {
      "text/plain": []
     },
     "execution_count": 35,
     "metadata": {},
     "output_type": "execute_result"
    }
   ],
   "source": [
    "import gradio as gr\n",
    "\n",
    "gradio_ui = gr.Interface(\n",
    "    fn=ask_question,\n",
    "    inputs=gr.Textbox(lines=2, label=\"Enter your question\"),\n",
    "    outputs=gr.Textbox(label=\"RAG Answer\"),\n",
    "    title=\"RAG Pipeline QA\",\n",
    "    description=\"Database contains 2 docs: pp0073b.pdf and TR-03109-5_Testspezifikation_german.pdf\"\n",
    ")\n",
    "\n",
    "# Launch the interface in the notebook\n",
    "gradio_ui.launch(inline=True,share=True)\n"
   ]
  },
  {
   "cell_type": "code",
   "execution_count": null,
   "metadata": {},
   "outputs": [],
   "source": []
  },
  {
   "cell_type": "markdown",
   "metadata": {},
   "source": []
  },
  {
   "cell_type": "markdown",
   "metadata": {},
   "source": []
  },
  {
   "cell_type": "code",
   "execution_count": null,
   "metadata": {},
   "outputs": [],
   "source": []
  }
 ],
 "metadata": {
  "language_info": {
   "name": "python"
  }
 },
 "nbformat": 4,
 "nbformat_minor": 2
}
